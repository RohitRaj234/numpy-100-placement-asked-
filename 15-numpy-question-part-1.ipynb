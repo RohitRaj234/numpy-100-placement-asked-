{
 "cells": [
  {
   "cell_type": "code",
   "execution_count": 1,
   "id": "d2189586",
   "metadata": {
    "_cell_guid": "b1076dfc-b9ad-4769-8c92-a6c4dae69d19",
    "_uuid": "8f2839f25d086af736a60e9eeb907d3b93b6e0e5",
    "execution": {
     "iopub.execute_input": "2024-05-12T04:25:58.290575Z",
     "iopub.status.busy": "2024-05-12T04:25:58.289144Z",
     "iopub.status.idle": "2024-05-12T04:25:59.294931Z",
     "shell.execute_reply": "2024-05-12T04:25:59.293765Z"
    },
    "papermill": {
     "duration": 1.017413,
     "end_time": "2024-05-12T04:25:59.298112",
     "exception": false,
     "start_time": "2024-05-12T04:25:58.280699",
     "status": "completed"
    },
    "tags": []
   },
   "outputs": [],
   "source": [
    "# This Python 3 environment comes with many helpful analytics libraries installed\n",
    "# It is defined by the kaggle/python Docker image: https://github.com/kaggle/docker-python\n",
    "# For example, here's several helpful packages to load\n",
    "\n",
    "import numpy as np # linear algebra\n",
    "import pandas as pd # data processing, CSV file I/O (e.g. pd.read_csv)\n",
    "\n",
    "# Input data files are available in the read-only \"../input/\" directory\n",
    "# For example, running this (by clicking run or pressing Shift+Enter) will list all files under the input directory\n",
    "\n",
    "import os\n",
    "for dirname, _, filenames in os.walk('/kaggle/input'):\n",
    "    for filename in filenames:\n",
    "        print(os.path.join(dirname, filename))\n",
    "\n",
    "# You can write up to 20GB to the current directory (/kaggle/working/) that gets preserved as output when you create a version using \"Save & Run All\" \n",
    "# You can also write temporary files to /kaggle/temp/, but they won't be saved outside of the current session"
   ]
  },
  {
   "cell_type": "code",
   "execution_count": 2,
   "id": "04943b63",
   "metadata": {
    "execution": {
     "iopub.execute_input": "2024-05-12T04:25:59.312494Z",
     "iopub.status.busy": "2024-05-12T04:25:59.311935Z",
     "iopub.status.idle": "2024-05-12T04:25:59.317263Z",
     "shell.execute_reply": "2024-05-12T04:25:59.316077Z"
    },
    "papermill": {
     "duration": 0.015403,
     "end_time": "2024-05-12T04:25:59.319875",
     "exception": false,
     "start_time": "2024-05-12T04:25:59.304472",
     "status": "completed"
    },
    "tags": []
   },
   "outputs": [],
   "source": [
    "#1. Import the numpy package under the name np (★☆☆)\n",
    "import numpy as np"
   ]
  },
  {
   "cell_type": "code",
   "execution_count": 3,
   "id": "668ce5c4",
   "metadata": {
    "execution": {
     "iopub.execute_input": "2024-05-12T04:25:59.333820Z",
     "iopub.status.busy": "2024-05-12T04:25:59.333420Z",
     "iopub.status.idle": "2024-05-12T04:25:59.339929Z",
     "shell.execute_reply": "2024-05-12T04:25:59.338673Z"
    },
    "papermill": {
     "duration": 0.016534,
     "end_time": "2024-05-12T04:25:59.342407",
     "exception": false,
     "start_time": "2024-05-12T04:25:59.325873",
     "status": "completed"
    },
    "tags": []
   },
   "outputs": [
    {
     "name": "stdout",
     "output_type": "stream",
     "text": [
      "1.26.4\n",
      "<function show at 0x7981c408a830>\n"
     ]
    }
   ],
   "source": [
    "#2. Print the numpy version and the configuration (★☆☆)\n",
    "print(np.__version__)\n",
    "print(np.show_config)"
   ]
  },
  {
   "cell_type": "code",
   "execution_count": 4,
   "id": "ce8c5c4a",
   "metadata": {
    "execution": {
     "iopub.execute_input": "2024-05-12T04:25:59.356915Z",
     "iopub.status.busy": "2024-05-12T04:25:59.356480Z",
     "iopub.status.idle": "2024-05-12T04:25:59.364268Z",
     "shell.execute_reply": "2024-05-12T04:25:59.363362Z"
    },
    "papermill": {
     "duration": 0.017894,
     "end_time": "2024-05-12T04:25:59.366597",
     "exception": false,
     "start_time": "2024-05-12T04:25:59.348703",
     "status": "completed"
    },
    "tags": []
   },
   "outputs": [
    {
     "data": {
      "text/plain": [
       "array([0., 0., 0., 0., 0., 0., 0., 0., 0., 0.])"
      ]
     },
     "execution_count": 4,
     "metadata": {},
     "output_type": "execute_result"
    }
   ],
   "source": [
    "#3. Create a null vector of size 10 (★☆☆)\n",
    "a=np.zeros(10)\n",
    "a"
   ]
  },
  {
   "cell_type": "code",
   "execution_count": 5,
   "id": "baf6ad0e",
   "metadata": {
    "execution": {
     "iopub.execute_input": "2024-05-12T04:25:59.381388Z",
     "iopub.status.busy": "2024-05-12T04:25:59.380964Z",
     "iopub.status.idle": "2024-05-12T04:25:59.387161Z",
     "shell.execute_reply": "2024-05-12T04:25:59.385950Z"
    },
    "papermill": {
     "duration": 0.017319,
     "end_time": "2024-05-12T04:25:59.390263",
     "exception": false,
     "start_time": "2024-05-12T04:25:59.372944",
     "status": "completed"
    },
    "tags": []
   },
   "outputs": [
    {
     "name": "stdout",
     "output_type": "stream",
     "text": [
      "96\n"
     ]
    }
   ],
   "source": [
    "#4. How to find the memory size of any array (★☆☆)\n",
    "arr = np.zeros((3, 4))  # Example array of shape (3, 4)\n",
    "\n",
    "# Find the memory size of the array\n",
    "memory_size = arr.nbytes\n",
    "print(memory_size)"
   ]
  },
  {
   "cell_type": "code",
   "execution_count": 6,
   "id": "71db0426",
   "metadata": {
    "execution": {
     "iopub.execute_input": "2024-05-12T04:25:59.405438Z",
     "iopub.status.busy": "2024-05-12T04:25:59.405025Z",
     "iopub.status.idle": "2024-05-12T04:25:59.412592Z",
     "shell.execute_reply": "2024-05-12T04:25:59.410965Z"
    },
    "papermill": {
     "duration": 0.017657,
     "end_time": "2024-05-12T04:25:59.414388",
     "exception": true,
     "start_time": "2024-05-12T04:25:59.396731",
     "status": "failed"
    },
    "tags": []
   },
   "outputs": [
    {
     "ename": "SyntaxError",
     "evalue": "invalid syntax (1345187140.py, line 2)",
     "output_type": "error",
     "traceback": [
      "\u001b[0;36m  Cell \u001b[0;32mIn[6], line 2\u001b[0;36m\u001b[0m\n\u001b[0;31m    pydoc numpy.add\u001b[0m\n\u001b[0m          ^\u001b[0m\n\u001b[0;31mSyntaxError\u001b[0m\u001b[0;31m:\u001b[0m invalid syntax\n"
     ]
    }
   ],
   "source": [
    "#5. How to get the documentation of the numpy add function from the command line? (★☆☆)\n",
    "pydoc numpy.add"
   ]
  },
  {
   "cell_type": "code",
   "execution_count": null,
   "id": "5d099494",
   "metadata": {
    "execution": {
     "iopub.execute_input": "2024-05-12T03:36:46.534999Z",
     "iopub.status.busy": "2024-05-12T03:36:46.534625Z",
     "iopub.status.idle": "2024-05-12T03:36:46.542528Z",
     "shell.execute_reply": "2024-05-12T03:36:46.541358Z",
     "shell.execute_reply.started": "2024-05-12T03:36:46.534971Z"
    },
    "papermill": {
     "duration": null,
     "end_time": null,
     "exception": null,
     "start_time": null,
     "status": "pending"
    },
    "tags": []
   },
   "outputs": [],
   "source": [
    "#. Create a null vector of size 10 but the fifth value which is 1 (★☆☆)\n",
    "a=np.zeros(10)\n",
    "a[4]=1\n",
    "a"
   ]
  },
  {
   "cell_type": "code",
   "execution_count": null,
   "id": "4715c826",
   "metadata": {
    "execution": {
     "iopub.execute_input": "2024-05-12T03:42:46.330766Z",
     "iopub.status.busy": "2024-05-12T03:42:46.329770Z",
     "iopub.status.idle": "2024-05-12T03:42:46.337281Z",
     "shell.execute_reply": "2024-05-12T03:42:46.336103Z",
     "shell.execute_reply.started": "2024-05-12T03:42:46.330730Z"
    },
    "papermill": {
     "duration": null,
     "end_time": null,
     "exception": null,
     "start_time": null,
     "status": "pending"
    },
    "tags": []
   },
   "outputs": [],
   "source": [
    "#7. Create a vector with values ranging from 10 to 49 (★☆☆)\n",
    "a=np.arange(10,50)\n",
    "a"
   ]
  },
  {
   "cell_type": "code",
   "execution_count": null,
   "id": "e765759f",
   "metadata": {
    "execution": {
     "iopub.execute_input": "2024-05-12T03:45:37.337979Z",
     "iopub.status.busy": "2024-05-12T03:45:37.337601Z",
     "iopub.status.idle": "2024-05-12T03:45:37.343271Z",
     "shell.execute_reply": "2024-05-12T03:45:37.342134Z",
     "shell.execute_reply.started": "2024-05-12T03:45:37.337940Z"
    },
    "papermill": {
     "duration": null,
     "end_time": null,
     "exception": null,
     "start_time": null,
     "status": "pending"
    },
    "tags": []
   },
   "outputs": [],
   "source": [
    "#8. Reverse a vector (first element becomes last) (★☆☆)\n",
    "a=np.array([1,2,3,4,5])\n",
    "print(a[::-1])"
   ]
  },
  {
   "cell_type": "code",
   "execution_count": null,
   "id": "2a0a1c7f",
   "metadata": {
    "execution": {
     "iopub.execute_input": "2024-05-12T03:46:29.330743Z",
     "iopub.status.busy": "2024-05-12T03:46:29.330371Z",
     "iopub.status.idle": "2024-05-12T03:46:29.337577Z",
     "shell.execute_reply": "2024-05-12T03:46:29.336574Z",
     "shell.execute_reply.started": "2024-05-12T03:46:29.330714Z"
    },
    "papermill": {
     "duration": null,
     "end_time": null,
     "exception": null,
     "start_time": null,
     "status": "pending"
    },
    "tags": []
   },
   "outputs": [],
   "source": [
    "#9. Create a 3x3 matrix with values ranging from 0 to 8 (★☆☆)\n",
    "a=np.arange(0,9).reshape(3,3)\n",
    "a"
   ]
  },
  {
   "cell_type": "code",
   "execution_count": null,
   "id": "6bfbe6b5",
   "metadata": {
    "execution": {
     "iopub.execute_input": "2024-05-12T03:52:53.770358Z",
     "iopub.status.busy": "2024-05-12T03:52:53.769373Z",
     "iopub.status.idle": "2024-05-12T03:52:53.776920Z",
     "shell.execute_reply": "2024-05-12T03:52:53.775983Z",
     "shell.execute_reply.started": "2024-05-12T03:52:53.770282Z"
    },
    "papermill": {
     "duration": null,
     "end_time": null,
     "exception": null,
     "start_time": null,
     "status": "pending"
    },
    "tags": []
   },
   "outputs": [],
   "source": [
    "#10. Find indices of non-zero elements from [1,2,0,0,4,0] (★☆☆)\n",
    "arr=np.array([1,2,0,0,4,0])\n",
    "a=np.nonzero(arr)\n",
    "a"
   ]
  },
  {
   "cell_type": "code",
   "execution_count": null,
   "id": "90d46ec3",
   "metadata": {
    "execution": {
     "iopub.execute_input": "2024-05-12T03:56:18.190282Z",
     "iopub.status.busy": "2024-05-12T03:56:18.189408Z",
     "iopub.status.idle": "2024-05-12T03:56:18.196599Z",
     "shell.execute_reply": "2024-05-12T03:56:18.195581Z",
     "shell.execute_reply.started": "2024-05-12T03:56:18.190248Z"
    },
    "papermill": {
     "duration": null,
     "end_time": null,
     "exception": null,
     "start_time": null,
     "status": "pending"
    },
    "tags": []
   },
   "outputs": [],
   "source": [
    "#11. Create a 3x3 identity matrix (★☆☆)\n",
    "arr=np.eye(3)\n",
    "arr"
   ]
  },
  {
   "cell_type": "code",
   "execution_count": null,
   "id": "ce24a21b",
   "metadata": {
    "execution": {
     "iopub.execute_input": "2024-05-12T04:01:27.510982Z",
     "iopub.status.busy": "2024-05-12T04:01:27.510218Z",
     "iopub.status.idle": "2024-05-12T04:01:27.518097Z",
     "shell.execute_reply": "2024-05-12T04:01:27.516817Z",
     "shell.execute_reply.started": "2024-05-12T04:01:27.510945Z"
    },
    "papermill": {
     "duration": null,
     "end_time": null,
     "exception": null,
     "start_time": null,
     "status": "pending"
    },
    "tags": []
   },
   "outputs": [],
   "source": [
    "#12. Create a 3x3x3 array with random values (★☆☆)\n",
    "arr=np.random.rand(3,3,3)\n",
    "arr"
   ]
  },
  {
   "cell_type": "code",
   "execution_count": null,
   "id": "b1974f14",
   "metadata": {
    "execution": {
     "iopub.execute_input": "2024-05-12T04:12:07.733703Z",
     "iopub.status.busy": "2024-05-12T04:12:07.732912Z",
     "iopub.status.idle": "2024-05-12T04:12:07.740771Z",
     "shell.execute_reply": "2024-05-12T04:12:07.739649Z",
     "shell.execute_reply.started": "2024-05-12T04:12:07.733667Z"
    },
    "papermill": {
     "duration": null,
     "end_time": null,
     "exception": null,
     "start_time": null,
     "status": "pending"
    },
    "tags": []
   },
   "outputs": [],
   "source": [
    "#13. Create a 10x10 array with random values and find the minimum and maximum values (★☆☆)\n",
    "random_array = np.random.rand(10, 10)\n",
    "\n",
    "# Find the minimum and maximum values\n",
    "min_value = np.min(random_array)\n",
    "max_value = np.max(random_array)\n",
    "min_value\n",
    "max_value"
   ]
  },
  {
   "cell_type": "code",
   "execution_count": null,
   "id": "5ab99948",
   "metadata": {
    "execution": {
     "iopub.execute_input": "2024-05-12T04:20:39.276071Z",
     "iopub.status.busy": "2024-05-12T04:20:39.275714Z",
     "iopub.status.idle": "2024-05-12T04:20:39.282869Z",
     "shell.execute_reply": "2024-05-12T04:20:39.281803Z",
     "shell.execute_reply.started": "2024-05-12T04:20:39.276045Z"
    },
    "papermill": {
     "duration": null,
     "end_time": null,
     "exception": null,
     "start_time": null,
     "status": "pending"
    },
    "tags": []
   },
   "outputs": [],
   "source": [
    "#14. Create a random vector of size 30 and find the mean value (★☆☆)\n",
    "arr=np.random.rand(30)\n",
    "arr_mean=np.mean(arr)\n",
    "arr_mean"
   ]
  },
  {
   "cell_type": "code",
   "execution_count": null,
   "id": "93aa8406",
   "metadata": {
    "execution": {
     "iopub.execute_input": "2024-05-12T04:24:08.456474Z",
     "iopub.status.busy": "2024-05-12T04:24:08.455488Z",
     "iopub.status.idle": "2024-05-12T04:24:08.462829Z",
     "shell.execute_reply": "2024-05-12T04:24:08.461762Z",
     "shell.execute_reply.started": "2024-05-12T04:24:08.456437Z"
    },
    "papermill": {
     "duration": null,
     "end_time": null,
     "exception": null,
     "start_time": null,
     "status": "pending"
    },
    "tags": []
   },
   "outputs": [],
   "source": [
    "#15. Create a 2d array with 1 on the border and 0 inside (★☆☆)\n",
    "z = np.ones((10,10))\n",
    "z[1:-1,1:-1] = 0\n",
    "print(z)"
   ]
  }
 ],
 "metadata": {
  "kaggle": {
   "accelerator": "none",
   "dataSources": [],
   "dockerImageVersionId": 30698,
   "isGpuEnabled": false,
   "isInternetEnabled": false,
   "language": "python",
   "sourceType": "notebook"
  },
  "kernelspec": {
   "display_name": "Python 3",
   "language": "python",
   "name": "python3"
  },
  "language_info": {
   "codemirror_mode": {
    "name": "ipython",
    "version": 3
   },
   "file_extension": ".py",
   "mimetype": "text/x-python",
   "name": "python",
   "nbconvert_exporter": "python",
   "pygments_lexer": "ipython3",
   "version": "3.10.13"
  },
  "papermill": {
   "default_parameters": {},
   "duration": 5.390743,
   "end_time": "2024-05-12T04:25:59.943396",
   "environment_variables": {},
   "exception": true,
   "input_path": "__notebook__.ipynb",
   "output_path": "__notebook__.ipynb",
   "parameters": {},
   "start_time": "2024-05-12T04:25:54.552653",
   "version": "2.5.0"
  }
 },
 "nbformat": 4,
 "nbformat_minor": 5
}
